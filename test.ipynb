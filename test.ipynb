{
 "cells": [
  {
   "cell_type": "code",
   "execution_count": 1,
   "id": "8aafb960",
   "metadata": {},
   "outputs": [],
   "source": [
    "import geopandas as gpd\n",
    "from buildingregulariser import regularize_geodataframe"
   ]
  },
  {
   "cell_type": "code",
   "execution_count": 8,
   "id": "bb1e5ec9",
   "metadata": {},
   "outputs": [],
   "source": [
    "# Load your data\n",
    "gdf = gpd.read_file(\n",
    "    \"/home/nick/Downloads/South_West_Coastal_Plain_North_Dec_2024_Evaluated.gpkg\"\n",
    ")\n",
    "\n",
    "\n",
    "# # Regularize with custom parameters\n",
    "regularized_gdf = regularize_geodataframe(\n",
    "    gdf,\n",
    "    parallel_threshold=5,  # Distance threshold for parallel lines\n",
    "    processes=10,\n",
    "    simplify_tolerance=0.5,\n",
    ")\n",
    "\n",
    "regularized_gdf.geometry = regularized_gdf.simplify(0.5)\n",
    "\n",
    "\n",
    "regularized_gdf = regularize_geodataframe(\n",
    "    regularized_gdf,\n",
    "    parallel_threshold=5,  # Distance threshold for parallel lines\n",
    "    processes=10,\n",
    "    simplify_tolerance=0.5,\n",
    ")\n",
    "\n",
    "\n",
    "regularized_gdf.to_file(\"outout.gpkg\", driver=\"GPKG\")"
   ]
  },
  {
   "cell_type": "markdown",
   "id": "35b2594f",
   "metadata": {},
   "source": []
  },
  {
   "cell_type": "code",
   "execution_count": null,
   "id": "6dfc5956",
   "metadata": {},
   "outputs": [],
   "source": []
  },
  {
   "cell_type": "code",
   "execution_count": null,
   "id": "a78be3cc",
   "metadata": {},
   "outputs": [],
   "source": []
  }
 ],
 "metadata": {
  "kernelspec": {
   "display_name": "gis",
   "language": "python",
   "name": "python3"
  },
  "language_info": {
   "codemirror_mode": {
    "name": "ipython",
    "version": 3
   },
   "file_extension": ".py",
   "mimetype": "text/x-python",
   "name": "python",
   "nbconvert_exporter": "python",
   "pygments_lexer": "ipython3",
   "version": "3.11.9"
  }
 },
 "nbformat": 4,
 "nbformat_minor": 5
}
