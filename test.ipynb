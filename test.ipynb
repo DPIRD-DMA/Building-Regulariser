{
 "cells": [
  {
   "cell_type": "code",
   "execution_count": 1,
   "id": "8aafb960",
   "metadata": {},
   "outputs": [],
   "source": [
    "import geopandas as gpd\n",
    "from buildingregulariser import regularize_geodataframe"
   ]
  },
  {
   "cell_type": "code",
   "execution_count": null,
   "id": "bb1e5ec9",
   "metadata": {},
   "outputs": [
    {
     "name": "stdout",
     "output_type": "stream",
     "text": [
      "6.565863553607713 5.555710145810353\n",
      "18.200216421722462 13.201459863482564\n",
      "4.832919528631796 3.8140755361657543\n",
      "9.516528086262815 8.964757891004169\n",
      "6.742129674576748 4.364447782828233\n",
      "6.398324766700305 6.006922607921217\n"
     ]
    }
   ],
   "source": [
    "# Load your data\n",
    "gdf = gpd.read_file(\"test data/test 1.gpkg\")\n",
    "\n",
    "# Regularize with default parameters\n",
    "# regularized_gdf = regularize_geodataframe(gdf)\n",
    "\n",
    "# # Regularize with custom parameters\n",
    "regularized_gdf = regularize_geodataframe(\n",
    "    gdf,\n",
    "    epsilon=1.5,  # Higher value = more simplification\n",
    "    parallel_threshold=5,  # Distance threshold for parallel lines\n",
    "    target_crs=\"EPSG:3857\",  # Optional reprojection\n",
    "    check_projection=True,  # Warning if not projected\n",
    ")\n",
    "# remove empty geometries\n",
    "# regularized_gdf = regularized_gdf[~regularized_gdf.geometry.is_empty]\n",
    "\n",
    "regularized_gdf.to_file(\"outout3.gpkg\", driver=\"GPKG\")\n",
    "\n",
    "# # Save results\n",
    "# regularized_gdf.to_file(\"regularized_polygons.shp\")"
   ]
  },
  {
   "cell_type": "code",
   "execution_count": null,
   "id": "6dfc5956",
   "metadata": {},
   "outputs": [],
   "source": []
  }
 ],
 "metadata": {
  "kernelspec": {
   "display_name": "gis",
   "language": "python",
   "name": "python3"
  },
  "language_info": {
   "codemirror_mode": {
    "name": "ipython",
    "version": 3
   },
   "file_extension": ".py",
   "mimetype": "text/x-python",
   "name": "python",
   "nbconvert_exporter": "python",
   "pygments_lexer": "ipython3",
   "version": "3.11.9"
  }
 },
 "nbformat": 4,
 "nbformat_minor": 5
}
